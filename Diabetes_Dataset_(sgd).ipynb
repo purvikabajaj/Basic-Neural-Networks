{
  "nbformat": 4,
  "nbformat_minor": 0,
  "metadata": {
    "colab": {
      "name": "Diabetes Dataset (sgd).ipynb",
      "provenance": [],
      "collapsed_sections": [],
      "include_colab_link": true
    },
    "kernelspec": {
      "name": "python3",
      "display_name": "Python 3"
    },
    "accelerator": "GPU"
  },
  "cells": [
    {
      "cell_type": "markdown",
      "metadata": {
        "id": "view-in-github",
        "colab_type": "text"
      },
      "source": [
        "<a href=\"https://colab.research.google.com/github/purvikabajaj/Basic-Neural-Networks/blob/master/Diabetes_Dataset_(sgd).ipynb\" target=\"_parent\"><img src=\"https://colab.research.google.com/assets/colab-badge.svg\" alt=\"Open In Colab\"/></a>"
      ]
    },
    {
      "cell_type": "code",
      "metadata": {
        "id": "lcIokHmPKoRT",
        "colab_type": "code",
        "colab": {}
      },
      "source": [
        "import tensorflow as tf\n",
        "from tensorflow import keras\n",
        "import numpy as np\n",
        "import pandas as pd"
      ],
      "execution_count": null,
      "outputs": []
    },
    {
      "cell_type": "code",
      "metadata": {
        "id": "E-MQ3YdtK3Nx",
        "colab_type": "code",
        "colab": {}
      },
      "source": [
        "df= pd.read_csv('/content/diabetes.csv')"
      ],
      "execution_count": null,
      "outputs": []
    },
    {
      "cell_type": "code",
      "metadata": {
        "id": "jAczuXx9K6km",
        "colab_type": "code",
        "colab": {
          "base_uri": "https://localhost:8080/",
          "height": 202
        },
        "outputId": "09dc4c34-b78a-4921-9d98-81460ae4b37c"
      },
      "source": [
        "df.head()"
      ],
      "execution_count": null,
      "outputs": [
        {
          "output_type": "execute_result",
          "data": {
            "text/html": [
              "<div>\n",
              "<style scoped>\n",
              "    .dataframe tbody tr th:only-of-type {\n",
              "        vertical-align: middle;\n",
              "    }\n",
              "\n",
              "    .dataframe tbody tr th {\n",
              "        vertical-align: top;\n",
              "    }\n",
              "\n",
              "    .dataframe thead th {\n",
              "        text-align: right;\n",
              "    }\n",
              "</style>\n",
              "<table border=\"1\" class=\"dataframe\">\n",
              "  <thead>\n",
              "    <tr style=\"text-align: right;\">\n",
              "      <th></th>\n",
              "      <th>Pregnancies</th>\n",
              "      <th>Glucose</th>\n",
              "      <th>BloodPressure</th>\n",
              "      <th>SkinThickness</th>\n",
              "      <th>Insulin</th>\n",
              "      <th>BMI</th>\n",
              "      <th>DiabetesPedigreeFunction</th>\n",
              "      <th>Age</th>\n",
              "      <th>Outcome</th>\n",
              "    </tr>\n",
              "  </thead>\n",
              "  <tbody>\n",
              "    <tr>\n",
              "      <th>0</th>\n",
              "      <td>6</td>\n",
              "      <td>148</td>\n",
              "      <td>72</td>\n",
              "      <td>35</td>\n",
              "      <td>0</td>\n",
              "      <td>33.6</td>\n",
              "      <td>0.627</td>\n",
              "      <td>50</td>\n",
              "      <td>1</td>\n",
              "    </tr>\n",
              "    <tr>\n",
              "      <th>1</th>\n",
              "      <td>1</td>\n",
              "      <td>85</td>\n",
              "      <td>66</td>\n",
              "      <td>29</td>\n",
              "      <td>0</td>\n",
              "      <td>26.6</td>\n",
              "      <td>0.351</td>\n",
              "      <td>31</td>\n",
              "      <td>0</td>\n",
              "    </tr>\n",
              "    <tr>\n",
              "      <th>2</th>\n",
              "      <td>8</td>\n",
              "      <td>183</td>\n",
              "      <td>64</td>\n",
              "      <td>0</td>\n",
              "      <td>0</td>\n",
              "      <td>23.3</td>\n",
              "      <td>0.672</td>\n",
              "      <td>32</td>\n",
              "      <td>1</td>\n",
              "    </tr>\n",
              "    <tr>\n",
              "      <th>3</th>\n",
              "      <td>1</td>\n",
              "      <td>89</td>\n",
              "      <td>66</td>\n",
              "      <td>23</td>\n",
              "      <td>94</td>\n",
              "      <td>28.1</td>\n",
              "      <td>0.167</td>\n",
              "      <td>21</td>\n",
              "      <td>0</td>\n",
              "    </tr>\n",
              "    <tr>\n",
              "      <th>4</th>\n",
              "      <td>0</td>\n",
              "      <td>137</td>\n",
              "      <td>40</td>\n",
              "      <td>35</td>\n",
              "      <td>168</td>\n",
              "      <td>43.1</td>\n",
              "      <td>2.288</td>\n",
              "      <td>33</td>\n",
              "      <td>1</td>\n",
              "    </tr>\n",
              "  </tbody>\n",
              "</table>\n",
              "</div>"
            ],
            "text/plain": [
              "   Pregnancies  Glucose  BloodPressure  ...  DiabetesPedigreeFunction  Age  Outcome\n",
              "0            6      148             72  ...                     0.627   50        1\n",
              "1            1       85             66  ...                     0.351   31        0\n",
              "2            8      183             64  ...                     0.672   32        1\n",
              "3            1       89             66  ...                     0.167   21        0\n",
              "4            0      137             40  ...                     2.288   33        1\n",
              "\n",
              "[5 rows x 9 columns]"
            ]
          },
          "metadata": {
            "tags": []
          },
          "execution_count": 90
        }
      ]
    },
    {
      "cell_type": "code",
      "metadata": {
        "id": "Eh0tdcHrK9Tw",
        "colab_type": "code",
        "colab": {
          "base_uri": "https://localhost:8080/",
          "height": 191
        },
        "outputId": "751488a4-ea81-415f-e1bc-80f613dead1f"
      },
      "source": [
        "df.isna().sum()"
      ],
      "execution_count": null,
      "outputs": [
        {
          "output_type": "execute_result",
          "data": {
            "text/plain": [
              "Pregnancies                 0\n",
              "Glucose                     0\n",
              "BloodPressure               0\n",
              "SkinThickness               0\n",
              "Insulin                     0\n",
              "BMI                         0\n",
              "DiabetesPedigreeFunction    0\n",
              "Age                         0\n",
              "Outcome                     0\n",
              "dtype: int64"
            ]
          },
          "metadata": {
            "tags": []
          },
          "execution_count": 91
        }
      ]
    },
    {
      "cell_type": "code",
      "metadata": {
        "id": "Rih0hqTTLARR",
        "colab_type": "code",
        "colab": {}
      },
      "source": [
        "x = df.iloc[:,0:8]\n",
        "y = df['Outcome']"
      ],
      "execution_count": null,
      "outputs": []
    },
    {
      "cell_type": "code",
      "metadata": {
        "id": "PK9c0ehbLKtB",
        "colab_type": "code",
        "colab": {
          "base_uri": "https://localhost:8080/",
          "height": 202
        },
        "outputId": "0d8f8960-325c-4108-b9c2-5295c87c9f29"
      },
      "source": [
        "x.head()"
      ],
      "execution_count": null,
      "outputs": [
        {
          "output_type": "execute_result",
          "data": {
            "text/html": [
              "<div>\n",
              "<style scoped>\n",
              "    .dataframe tbody tr th:only-of-type {\n",
              "        vertical-align: middle;\n",
              "    }\n",
              "\n",
              "    .dataframe tbody tr th {\n",
              "        vertical-align: top;\n",
              "    }\n",
              "\n",
              "    .dataframe thead th {\n",
              "        text-align: right;\n",
              "    }\n",
              "</style>\n",
              "<table border=\"1\" class=\"dataframe\">\n",
              "  <thead>\n",
              "    <tr style=\"text-align: right;\">\n",
              "      <th></th>\n",
              "      <th>Pregnancies</th>\n",
              "      <th>Glucose</th>\n",
              "      <th>BloodPressure</th>\n",
              "      <th>SkinThickness</th>\n",
              "      <th>Insulin</th>\n",
              "      <th>BMI</th>\n",
              "      <th>DiabetesPedigreeFunction</th>\n",
              "      <th>Age</th>\n",
              "    </tr>\n",
              "  </thead>\n",
              "  <tbody>\n",
              "    <tr>\n",
              "      <th>0</th>\n",
              "      <td>6</td>\n",
              "      <td>148</td>\n",
              "      <td>72</td>\n",
              "      <td>35</td>\n",
              "      <td>0</td>\n",
              "      <td>33.6</td>\n",
              "      <td>0.627</td>\n",
              "      <td>50</td>\n",
              "    </tr>\n",
              "    <tr>\n",
              "      <th>1</th>\n",
              "      <td>1</td>\n",
              "      <td>85</td>\n",
              "      <td>66</td>\n",
              "      <td>29</td>\n",
              "      <td>0</td>\n",
              "      <td>26.6</td>\n",
              "      <td>0.351</td>\n",
              "      <td>31</td>\n",
              "    </tr>\n",
              "    <tr>\n",
              "      <th>2</th>\n",
              "      <td>8</td>\n",
              "      <td>183</td>\n",
              "      <td>64</td>\n",
              "      <td>0</td>\n",
              "      <td>0</td>\n",
              "      <td>23.3</td>\n",
              "      <td>0.672</td>\n",
              "      <td>32</td>\n",
              "    </tr>\n",
              "    <tr>\n",
              "      <th>3</th>\n",
              "      <td>1</td>\n",
              "      <td>89</td>\n",
              "      <td>66</td>\n",
              "      <td>23</td>\n",
              "      <td>94</td>\n",
              "      <td>28.1</td>\n",
              "      <td>0.167</td>\n",
              "      <td>21</td>\n",
              "    </tr>\n",
              "    <tr>\n",
              "      <th>4</th>\n",
              "      <td>0</td>\n",
              "      <td>137</td>\n",
              "      <td>40</td>\n",
              "      <td>35</td>\n",
              "      <td>168</td>\n",
              "      <td>43.1</td>\n",
              "      <td>2.288</td>\n",
              "      <td>33</td>\n",
              "    </tr>\n",
              "  </tbody>\n",
              "</table>\n",
              "</div>"
            ],
            "text/plain": [
              "   Pregnancies  Glucose  BloodPressure  ...   BMI  DiabetesPedigreeFunction  Age\n",
              "0            6      148             72  ...  33.6                     0.627   50\n",
              "1            1       85             66  ...  26.6                     0.351   31\n",
              "2            8      183             64  ...  23.3                     0.672   32\n",
              "3            1       89             66  ...  28.1                     0.167   21\n",
              "4            0      137             40  ...  43.1                     2.288   33\n",
              "\n",
              "[5 rows x 8 columns]"
            ]
          },
          "metadata": {
            "tags": []
          },
          "execution_count": 93
        }
      ]
    },
    {
      "cell_type": "code",
      "metadata": {
        "id": "nPLeDJw2LL38",
        "colab_type": "code",
        "colab": {
          "base_uri": "https://localhost:8080/",
          "height": 225
        },
        "outputId": "204c89ff-ca97-4898-89e4-a58bd070e390"
      },
      "source": [
        "y"
      ],
      "execution_count": null,
      "outputs": [
        {
          "output_type": "execute_result",
          "data": {
            "text/plain": [
              "0      1\n",
              "1      0\n",
              "2      1\n",
              "3      0\n",
              "4      1\n",
              "      ..\n",
              "763    0\n",
              "764    0\n",
              "765    0\n",
              "766    1\n",
              "767    0\n",
              "Name: Outcome, Length: 768, dtype: int64"
            ]
          },
          "metadata": {
            "tags": []
          },
          "execution_count": 94
        }
      ]
    },
    {
      "cell_type": "code",
      "metadata": {
        "id": "TzB6g-C6LMoj",
        "colab_type": "code",
        "colab": {}
      },
      "source": [
        "from sklearn.preprocessing import StandardScaler"
      ],
      "execution_count": null,
      "outputs": []
    },
    {
      "cell_type": "code",
      "metadata": {
        "id": "d1bDBoxGLzQ_",
        "colab_type": "code",
        "colab": {
          "base_uri": "https://localhost:8080/",
          "height": 243
        },
        "outputId": "c276c706-8f1c-49f4-c753-49c0063d36ba"
      },
      "source": [
        "scaler = StandardScaler()\n",
        "x = scaler.fit_transform(x)\n",
        "x"
      ],
      "execution_count": null,
      "outputs": [
        {
          "output_type": "execute_result",
          "data": {
            "text/plain": [
              "array([[ 0.63994726,  0.84832379,  0.14964075, ...,  0.20401277,\n",
              "         0.46849198,  1.4259954 ],\n",
              "       [-0.84488505, -1.12339636, -0.16054575, ..., -0.68442195,\n",
              "        -0.36506078, -0.19067191],\n",
              "       [ 1.23388019,  1.94372388, -0.26394125, ..., -1.10325546,\n",
              "         0.60439732, -0.10558415],\n",
              "       ...,\n",
              "       [ 0.3429808 ,  0.00330087,  0.14964075, ..., -0.73518964,\n",
              "        -0.68519336, -0.27575966],\n",
              "       [-0.84488505,  0.1597866 , -0.47073225, ..., -0.24020459,\n",
              "        -0.37110101,  1.17073215],\n",
              "       [-0.84488505, -0.8730192 ,  0.04624525, ..., -0.20212881,\n",
              "        -0.47378505, -0.87137393]])"
            ]
          },
          "metadata": {
            "tags": []
          },
          "execution_count": 96
        }
      ]
    },
    {
      "cell_type": "code",
      "metadata": {
        "id": "8qSef_TBL0WD",
        "colab_type": "code",
        "colab": {}
      },
      "source": [
        "from sklearn.model_selection import train_test_split"
      ],
      "execution_count": null,
      "outputs": []
    },
    {
      "cell_type": "code",
      "metadata": {
        "id": "8Thc3VGQLfBT",
        "colab_type": "code",
        "colab": {}
      },
      "source": [
        "x_train, x_test, y_train, y_test = train_test_split(x,y,test_size=0.2,random_state=42)"
      ],
      "execution_count": null,
      "outputs": []
    },
    {
      "cell_type": "code",
      "metadata": {
        "id": "H5henz6-LpW-",
        "colab_type": "code",
        "colab": {
          "base_uri": "https://localhost:8080/",
          "height": 52
        },
        "outputId": "5e9d317b-72cd-4460-bf9b-9a1916a61495"
      },
      "source": [
        "print('TRAINING DATA: ', x_train.shape, y_train.shape)\n",
        "print('TESTING DATA: ', x_test.shape, y_test.shape)"
      ],
      "execution_count": null,
      "outputs": [
        {
          "output_type": "stream",
          "text": [
            "TRAINING DATA:  (614, 8) (614,)\n",
            "TESTING DATA:  (154, 8) (154,)\n"
          ],
          "name": "stdout"
        }
      ]
    },
    {
      "cell_type": "code",
      "metadata": {
        "id": "22qj0By9L74O",
        "colab_type": "code",
        "colab": {}
      },
      "source": [
        "model = tf.keras.models.Sequential([\n",
        "                                    tf.keras.layers.Dense(12, input_dim = 8, activation='relu'),\n",
        "                                    tf.keras.layers.Dense(6, activation='relu'),\n",
        "                                    tf.keras.layers.Dense(1, activation='sigmoid')\n",
        "\n",
        "])"
      ],
      "execution_count": null,
      "outputs": []
    },
    {
      "cell_type": "code",
      "metadata": {
        "id": "ad4oRQYiMBWp",
        "colab_type": "code",
        "colab": {
          "base_uri": "https://localhost:8080/",
          "height": 260
        },
        "outputId": "3c06b34b-0b70-45af-c37a-ac1c7028c03a"
      },
      "source": [
        "model.summary()"
      ],
      "execution_count": null,
      "outputs": [
        {
          "output_type": "stream",
          "text": [
            "Model: \"sequential_4\"\n",
            "_________________________________________________________________\n",
            "Layer (type)                 Output Shape              Param #   \n",
            "=================================================================\n",
            "dense_12 (Dense)             (None, 12)                108       \n",
            "_________________________________________________________________\n",
            "dense_13 (Dense)             (None, 6)                 78        \n",
            "_________________________________________________________________\n",
            "dense_14 (Dense)             (None, 1)                 7         \n",
            "=================================================================\n",
            "Total params: 193\n",
            "Trainable params: 193\n",
            "Non-trainable params: 0\n",
            "_________________________________________________________________\n"
          ],
          "name": "stdout"
        }
      ]
    },
    {
      "cell_type": "code",
      "metadata": {
        "id": "oYWMVQ4bMDjS",
        "colab_type": "code",
        "colab": {}
      },
      "source": [
        "model.compile(optimizer = 'sgd', loss = 'binary_crossentropy', metrics = ['accuracy'])"
      ],
      "execution_count": null,
      "outputs": []
    },
    {
      "cell_type": "code",
      "metadata": {
        "id": "MF2Ehp4kMFSW",
        "colab_type": "code",
        "colab": {
          "base_uri": "https://localhost:8080/",
          "height": 1000
        },
        "outputId": "3a03220d-cae1-47c3-84d0-cc9b368d593f"
      },
      "source": [
        "history = model.fit(x_train, y_train, batch_size = 10, epochs=100)"
      ],
      "execution_count": null,
      "outputs": [
        {
          "output_type": "stream",
          "text": [
            "Epoch 1/100\n",
            "62/62 [==============================] - 0s 3ms/step - loss: 0.7000 - accuracy: 0.5147\n",
            "Epoch 2/100\n",
            "62/62 [==============================] - 0s 4ms/step - loss: 0.6487 - accuracy: 0.6368\n",
            "Epoch 3/100\n",
            "62/62 [==============================] - 0s 3ms/step - loss: 0.6206 - accuracy: 0.6792\n",
            "Epoch 4/100\n",
            "62/62 [==============================] - 0s 3ms/step - loss: 0.6027 - accuracy: 0.6759\n",
            "Epoch 5/100\n",
            "62/62 [==============================] - 0s 4ms/step - loss: 0.5887 - accuracy: 0.6759\n",
            "Epoch 6/100\n",
            "62/62 [==============================] - 0s 3ms/step - loss: 0.5772 - accuracy: 0.6808\n",
            "Epoch 7/100\n",
            "62/62 [==============================] - 0s 3ms/step - loss: 0.5668 - accuracy: 0.6889\n",
            "Epoch 8/100\n",
            "62/62 [==============================] - 0s 3ms/step - loss: 0.5572 - accuracy: 0.6938\n",
            "Epoch 9/100\n",
            "62/62 [==============================] - 0s 3ms/step - loss: 0.5493 - accuracy: 0.6922\n",
            "Epoch 10/100\n",
            "62/62 [==============================] - 0s 3ms/step - loss: 0.5416 - accuracy: 0.7036\n",
            "Epoch 11/100\n",
            "62/62 [==============================] - 0s 3ms/step - loss: 0.5342 - accuracy: 0.7134\n",
            "Epoch 12/100\n",
            "62/62 [==============================] - 0s 3ms/step - loss: 0.5275 - accuracy: 0.7117\n",
            "Epoch 13/100\n",
            "62/62 [==============================] - 0s 3ms/step - loss: 0.5215 - accuracy: 0.7166\n",
            "Epoch 14/100\n",
            "62/62 [==============================] - 0s 3ms/step - loss: 0.5160 - accuracy: 0.7296\n",
            "Epoch 15/100\n",
            "62/62 [==============================] - 0s 3ms/step - loss: 0.5110 - accuracy: 0.7313\n",
            "Epoch 16/100\n",
            "62/62 [==============================] - 0s 3ms/step - loss: 0.5064 - accuracy: 0.7345\n",
            "Epoch 17/100\n",
            "62/62 [==============================] - 0s 4ms/step - loss: 0.5023 - accuracy: 0.7427\n",
            "Epoch 18/100\n",
            "62/62 [==============================] - 0s 3ms/step - loss: 0.4983 - accuracy: 0.7410\n",
            "Epoch 19/100\n",
            "62/62 [==============================] - 0s 3ms/step - loss: 0.4945 - accuracy: 0.7443\n",
            "Epoch 20/100\n",
            "62/62 [==============================] - 0s 3ms/step - loss: 0.4909 - accuracy: 0.7427\n",
            "Epoch 21/100\n",
            "62/62 [==============================] - 0s 3ms/step - loss: 0.4879 - accuracy: 0.7410\n",
            "Epoch 22/100\n",
            "62/62 [==============================] - 0s 3ms/step - loss: 0.4843 - accuracy: 0.7410\n",
            "Epoch 23/100\n",
            "62/62 [==============================] - 0s 3ms/step - loss: 0.4812 - accuracy: 0.7427\n",
            "Epoch 24/100\n",
            "62/62 [==============================] - 0s 3ms/step - loss: 0.4784 - accuracy: 0.7476\n",
            "Epoch 25/100\n",
            "62/62 [==============================] - 0s 3ms/step - loss: 0.4752 - accuracy: 0.7524\n",
            "Epoch 26/100\n",
            "62/62 [==============================] - 0s 3ms/step - loss: 0.4724 - accuracy: 0.7508\n",
            "Epoch 27/100\n",
            "62/62 [==============================] - 0s 3ms/step - loss: 0.4702 - accuracy: 0.7606\n",
            "Epoch 28/100\n",
            "62/62 [==============================] - 0s 3ms/step - loss: 0.4677 - accuracy: 0.7573\n",
            "Epoch 29/100\n",
            "62/62 [==============================] - 0s 3ms/step - loss: 0.4656 - accuracy: 0.7638\n",
            "Epoch 30/100\n",
            "62/62 [==============================] - 0s 3ms/step - loss: 0.4634 - accuracy: 0.7687\n",
            "Epoch 31/100\n",
            "62/62 [==============================] - 0s 3ms/step - loss: 0.4614 - accuracy: 0.7687\n",
            "Epoch 32/100\n",
            "62/62 [==============================] - 0s 3ms/step - loss: 0.4597 - accuracy: 0.7687\n",
            "Epoch 33/100\n",
            "62/62 [==============================] - 0s 3ms/step - loss: 0.4579 - accuracy: 0.7655\n",
            "Epoch 34/100\n",
            "62/62 [==============================] - 0s 3ms/step - loss: 0.4564 - accuracy: 0.7720\n",
            "Epoch 35/100\n",
            "62/62 [==============================] - 0s 3ms/step - loss: 0.4549 - accuracy: 0.7785\n",
            "Epoch 36/100\n",
            "62/62 [==============================] - 0s 3ms/step - loss: 0.4535 - accuracy: 0.7785\n",
            "Epoch 37/100\n",
            "62/62 [==============================] - 0s 4ms/step - loss: 0.4524 - accuracy: 0.7801\n",
            "Epoch 38/100\n",
            "62/62 [==============================] - 0s 3ms/step - loss: 0.4507 - accuracy: 0.7801\n",
            "Epoch 39/100\n",
            "62/62 [==============================] - 0s 3ms/step - loss: 0.4495 - accuracy: 0.7834\n",
            "Epoch 40/100\n",
            "62/62 [==============================] - 0s 3ms/step - loss: 0.4484 - accuracy: 0.7834\n",
            "Epoch 41/100\n",
            "62/62 [==============================] - 0s 3ms/step - loss: 0.4469 - accuracy: 0.7866\n",
            "Epoch 42/100\n",
            "62/62 [==============================] - 0s 3ms/step - loss: 0.4456 - accuracy: 0.7834\n",
            "Epoch 43/100\n",
            "62/62 [==============================] - 0s 3ms/step - loss: 0.4442 - accuracy: 0.7834\n",
            "Epoch 44/100\n",
            "62/62 [==============================] - 0s 3ms/step - loss: 0.4431 - accuracy: 0.7801\n",
            "Epoch 45/100\n",
            "62/62 [==============================] - 0s 3ms/step - loss: 0.4422 - accuracy: 0.7850\n",
            "Epoch 46/100\n",
            "62/62 [==============================] - 0s 3ms/step - loss: 0.4412 - accuracy: 0.7834\n",
            "Epoch 47/100\n",
            "62/62 [==============================] - 0s 3ms/step - loss: 0.4403 - accuracy: 0.7899\n",
            "Epoch 48/100\n",
            "62/62 [==============================] - 0s 3ms/step - loss: 0.4393 - accuracy: 0.7834\n",
            "Epoch 49/100\n",
            "62/62 [==============================] - 0s 3ms/step - loss: 0.4384 - accuracy: 0.7850\n",
            "Epoch 50/100\n",
            "62/62 [==============================] - 0s 3ms/step - loss: 0.4374 - accuracy: 0.7899\n",
            "Epoch 51/100\n",
            "62/62 [==============================] - 0s 3ms/step - loss: 0.4369 - accuracy: 0.7850\n",
            "Epoch 52/100\n",
            "62/62 [==============================] - 0s 3ms/step - loss: 0.4356 - accuracy: 0.7899\n",
            "Epoch 53/100\n",
            "62/62 [==============================] - 0s 3ms/step - loss: 0.4348 - accuracy: 0.7899\n",
            "Epoch 54/100\n",
            "62/62 [==============================] - 0s 3ms/step - loss: 0.4342 - accuracy: 0.7850\n",
            "Epoch 55/100\n",
            "62/62 [==============================] - 0s 3ms/step - loss: 0.4335 - accuracy: 0.7883\n",
            "Epoch 56/100\n",
            "62/62 [==============================] - 0s 3ms/step - loss: 0.4330 - accuracy: 0.7899\n",
            "Epoch 57/100\n",
            "62/62 [==============================] - 0s 3ms/step - loss: 0.4328 - accuracy: 0.7850\n",
            "Epoch 58/100\n",
            "62/62 [==============================] - 0s 3ms/step - loss: 0.4318 - accuracy: 0.7850\n",
            "Epoch 59/100\n",
            "62/62 [==============================] - 0s 3ms/step - loss: 0.4311 - accuracy: 0.7866\n",
            "Epoch 60/100\n",
            "62/62 [==============================] - 0s 3ms/step - loss: 0.4306 - accuracy: 0.7850\n",
            "Epoch 61/100\n",
            "62/62 [==============================] - 0s 3ms/step - loss: 0.4301 - accuracy: 0.7850\n",
            "Epoch 62/100\n",
            "62/62 [==============================] - 0s 3ms/step - loss: 0.4295 - accuracy: 0.7883\n",
            "Epoch 63/100\n",
            "62/62 [==============================] - 0s 3ms/step - loss: 0.4290 - accuracy: 0.7915\n",
            "Epoch 64/100\n",
            "62/62 [==============================] - 0s 3ms/step - loss: 0.4286 - accuracy: 0.7899\n",
            "Epoch 65/100\n",
            "62/62 [==============================] - 0s 3ms/step - loss: 0.4278 - accuracy: 0.7915\n",
            "Epoch 66/100\n",
            "62/62 [==============================] - 0s 3ms/step - loss: 0.4273 - accuracy: 0.7932\n",
            "Epoch 67/100\n",
            "62/62 [==============================] - 0s 4ms/step - loss: 0.4269 - accuracy: 0.7915\n",
            "Epoch 68/100\n",
            "62/62 [==============================] - 0s 3ms/step - loss: 0.4262 - accuracy: 0.7932\n",
            "Epoch 69/100\n",
            "62/62 [==============================] - 0s 3ms/step - loss: 0.4259 - accuracy: 0.7915\n",
            "Epoch 70/100\n",
            "62/62 [==============================] - 0s 3ms/step - loss: 0.4253 - accuracy: 0.7899\n",
            "Epoch 71/100\n",
            "62/62 [==============================] - 0s 3ms/step - loss: 0.4245 - accuracy: 0.7915\n",
            "Epoch 72/100\n",
            "62/62 [==============================] - 0s 3ms/step - loss: 0.4243 - accuracy: 0.7932\n",
            "Epoch 73/100\n",
            "62/62 [==============================] - 0s 3ms/step - loss: 0.4237 - accuracy: 0.7997\n",
            "Epoch 74/100\n",
            "62/62 [==============================] - 0s 3ms/step - loss: 0.4231 - accuracy: 0.7899\n",
            "Epoch 75/100\n",
            "62/62 [==============================] - 0s 3ms/step - loss: 0.4226 - accuracy: 0.7948\n",
            "Epoch 76/100\n",
            "62/62 [==============================] - 0s 3ms/step - loss: 0.4220 - accuracy: 0.7997\n",
            "Epoch 77/100\n",
            "62/62 [==============================] - 0s 3ms/step - loss: 0.4217 - accuracy: 0.7964\n",
            "Epoch 78/100\n",
            "62/62 [==============================] - 0s 3ms/step - loss: 0.4212 - accuracy: 0.7980\n",
            "Epoch 79/100\n",
            "62/62 [==============================] - 0s 3ms/step - loss: 0.4210 - accuracy: 0.7964\n",
            "Epoch 80/100\n",
            "62/62 [==============================] - 0s 3ms/step - loss: 0.4204 - accuracy: 0.7948\n",
            "Epoch 81/100\n",
            "62/62 [==============================] - 0s 3ms/step - loss: 0.4197 - accuracy: 0.7964\n",
            "Epoch 82/100\n",
            "62/62 [==============================] - 0s 4ms/step - loss: 0.4193 - accuracy: 0.8013\n",
            "Epoch 83/100\n",
            "62/62 [==============================] - 0s 4ms/step - loss: 0.4188 - accuracy: 0.8013\n",
            "Epoch 84/100\n",
            "62/62 [==============================] - 0s 3ms/step - loss: 0.4184 - accuracy: 0.7980\n",
            "Epoch 85/100\n",
            "62/62 [==============================] - 0s 3ms/step - loss: 0.4177 - accuracy: 0.7964\n",
            "Epoch 86/100\n",
            "62/62 [==============================] - 0s 4ms/step - loss: 0.4174 - accuracy: 0.7997\n",
            "Epoch 87/100\n",
            "62/62 [==============================] - 0s 4ms/step - loss: 0.4171 - accuracy: 0.7980\n",
            "Epoch 88/100\n",
            "62/62 [==============================] - 0s 4ms/step - loss: 0.4166 - accuracy: 0.8013\n",
            "Epoch 89/100\n",
            "62/62 [==============================] - 0s 4ms/step - loss: 0.4160 - accuracy: 0.7980\n",
            "Epoch 90/100\n",
            "62/62 [==============================] - 0s 4ms/step - loss: 0.4157 - accuracy: 0.7997\n",
            "Epoch 91/100\n",
            "62/62 [==============================] - 0s 3ms/step - loss: 0.4155 - accuracy: 0.7997\n",
            "Epoch 92/100\n",
            "62/62 [==============================] - 0s 4ms/step - loss: 0.4152 - accuracy: 0.7980\n",
            "Epoch 93/100\n",
            "62/62 [==============================] - 0s 4ms/step - loss: 0.4147 - accuracy: 0.8013\n",
            "Epoch 94/100\n",
            "62/62 [==============================] - 0s 4ms/step - loss: 0.4142 - accuracy: 0.7980\n",
            "Epoch 95/100\n",
            "62/62 [==============================] - 0s 4ms/step - loss: 0.4144 - accuracy: 0.7997\n",
            "Epoch 96/100\n",
            "62/62 [==============================] - 0s 4ms/step - loss: 0.4139 - accuracy: 0.8029\n",
            "Epoch 97/100\n",
            "62/62 [==============================] - 0s 4ms/step - loss: 0.4131 - accuracy: 0.8029\n",
            "Epoch 98/100\n",
            "62/62 [==============================] - 0s 3ms/step - loss: 0.4131 - accuracy: 0.8029\n",
            "Epoch 99/100\n",
            "62/62 [==============================] - 0s 3ms/step - loss: 0.4127 - accuracy: 0.8013\n",
            "Epoch 100/100\n",
            "62/62 [==============================] - 0s 3ms/step - loss: 0.4121 - accuracy: 0.8013\n"
          ],
          "name": "stdout"
        }
      ]
    },
    {
      "cell_type": "code",
      "metadata": {
        "id": "PsDh5eJeMGv4",
        "colab_type": "code",
        "colab": {
          "base_uri": "https://localhost:8080/",
          "height": 52
        },
        "outputId": "be87b3b1-3ee1-424e-9f70-0aeb7fac790a"
      },
      "source": [
        "model.evaluate(x_test, y_test)"
      ],
      "execution_count": null,
      "outputs": [
        {
          "output_type": "stream",
          "text": [
            "5/5 [==============================] - 0s 3ms/step - loss: 0.4958 - accuracy: 0.7792\n"
          ],
          "name": "stdout"
        },
        {
          "output_type": "execute_result",
          "data": {
            "text/plain": [
              "[0.4957830309867859, 0.7792207598686218]"
            ]
          },
          "metadata": {
            "tags": []
          },
          "execution_count": 104
        }
      ]
    },
    {
      "cell_type": "code",
      "metadata": {
        "id": "6l4qJPoCML2T",
        "colab_type": "code",
        "colab": {}
      },
      "source": [
        "import matplotlib.pyplot as plt"
      ],
      "execution_count": null,
      "outputs": []
    },
    {
      "cell_type": "code",
      "metadata": {
        "id": "wsfo6-K0QFTL",
        "colab_type": "code",
        "colab": {
          "base_uri": "https://localhost:8080/",
          "height": 563
        },
        "outputId": "42c60641-af7a-492b-c6e4-fa60f6f7f2a4"
      },
      "source": [
        "acc = history.history[     'accuracy' ]\n",
        "loss = history.history[    'loss' ]\n",
        "\n",
        "epochs   = range(len(acc)) \n",
        "plt.plot  ( epochs,     acc )\n",
        "\n",
        "plt.title ('Training accuracy')\n",
        "plt.figure()\n",
        "\n",
        "plt.plot  ( epochs,     loss )\n",
        "plt.title ('Training loss'   )"
      ],
      "execution_count": null,
      "outputs": [
        {
          "output_type": "execute_result",
          "data": {
            "text/plain": [
              "Text(0.5, 1.0, 'Training loss')"
            ]
          },
          "metadata": {
            "tags": []
          },
          "execution_count": 106
        },
        {
          "output_type": "display_data",
          "data": {
            "image/png": "[encoded data removed]",
            "text/plain": [
              "<Figure size 432x288 with 1 Axes>"
            ]
          },
          "metadata": {
            "tags": [],
            "needs_background": "light"
          }
        },
        {
          "output_type": "display_data",
          "data": {
            "image/png": "[encoded data removed]",
            "text/plain": [
              "<Figure size 432x288 with 1 Axes>"
            ]
          },
          "metadata": {
            "tags": [],
            "needs_background": "light"
          }
        }
      ]
    },
    {
      "cell_type": "code",
      "metadata": {
        "id": "Rc7snAv1RN_V",
        "colab_type": "code",
        "colab": {}
      },
      "source": [
        ""
      ],
      "execution_count": null,
      "outputs": []
    }
  ]
}