{
  "nbformat": 4,
  "nbformat_minor": 0,
  "metadata": {
    "colab": {
      "name": "Handwriting MNIST using logs.ipynb",
      "provenance": [],
      "collapsed_sections": [],
      "authorship_tag": "ABX9TyM8U6eQfq7kZth6iSRcVPAc",
      "include_colab_link": true
    },
    "kernelspec": {
      "name": "python3",
      "display_name": "Python 3"
    },
    "accelerator": "GPU"
  },
  "cells": [
    {
      "cell_type": "markdown",
      "metadata": {
        "id": "view-in-github",
        "colab_type": "text"
      },
      "source": [
        "<a href=\"https://colab.research.google.com/github/purvikabajaj/Neural-Networks/blob/master/Handwriting_MNIST_using_logs.ipynb\" target=\"_parent\"><img src=\"https://colab.research.google.com/assets/colab-badge.svg\" alt=\"Open In Colab\"/></a>"
      ]
    },
    {
      "cell_type": "code",
      "metadata": {
        "id": "wA8cKp3wb-16",
        "colab_type": "code",
        "colab": {}
      },
      "source": [
        "import tensorflow as tf\n",
        "import numpy as np\n",
        "from tensorflow import keras\n",
        "import matplotlib.pyplot as plt"
      ],
      "execution_count": 28,
      "outputs": []
    },
    {
      "cell_type": "code",
      "metadata": {
        "id": "bzVQPcticF0Z",
        "colab_type": "code",
        "colab": {}
      },
      "source": [
        "def train():\n",
        "  class myCallbacks(tf.keras.callbacks.Callback):\n",
        "    def on_epoch_end(self, epoch, logs = {}):\n",
        "      if(logs.get('loss')<0.4):\n",
        "        print('\\nCancelling training because loss<0.4\\n')\n",
        "        self.model.stop_training = True\n",
        "\n",
        "  callbacks = myCallbacks()\n",
        "  mnist = tf.keras.datasets.mnist\n",
        "\n",
        "  (x_train, y_train), (x_test, y_test) = mnist.load_data()\n",
        "  x_train = x_train/255.0\n",
        "  x_test = x_test/255.0\n",
        "\n",
        "  model = tf.keras.models.Sequential([\n",
        "      tf.keras.layers.Flatten(input_shape=(28,28)),\n",
        "      tf.keras.layers.Dense(128, activation='relu'),\n",
        "      tf.keras.layers.Dense(10, activation='softmax')]\n",
        "  )\n",
        "  model.compile(optimizer = 'adam', loss = 'sparse_categorical_crossentropy', metrics = ['accuracy'])\n",
        "  history = model.fit(x_train, y_train, epochs=5, callbacks = [callbacks])\n",
        "\n",
        "  return history.epoch, history.history['accuracy'][-1], model.evaluate(x_test, y_test), np.argmax(model.predict(x_test)[0]), plt.imshow(x_test[0].reshape(28,28),cmap='Greys'), plt.show()"
      ],
      "execution_count": 31,
      "outputs": []
    },
    {
      "cell_type": "code",
      "metadata": {
        "id": "Ut9eAhHxeM48",
        "colab_type": "code",
        "colab": {
          "base_uri": "https://localhost:8080/",
          "height": 508
        },
        "outputId": "1ed18d5f-9490-4463-bb04-77edd9e31da6"
      },
      "source": [
        "train()"
      ],
      "execution_count": 32,
      "outputs": [
        {
          "output_type": "stream",
          "text": [
            "Downloading data from https://storage.googleapis.com/tensorflow/tf-keras-datasets/mnist.npz\n",
            "11493376/11490434 [==============================] - 0s 0us/step\n",
            "Epoch 1/5\n",
            "1860/1875 [============================>.] - ETA: 0s - loss: 0.2567 - accuracy: 0.9267\n",
            "Cancelling training because loss<0.4\n",
            "\n",
            "1875/1875 [==============================] - 5s 3ms/step - loss: 0.2561 - accuracy: 0.9269\n",
            "313/313 [==============================] - 1s 3ms/step - loss: 0.1344 - accuracy: 0.9607\n"
          ],
          "name": "stdout"
        },
        {
          "output_type": "display_data",
          "data": {
            "image/png": "[encoded data removed]",
            "text/plain": [
              "<Figure size 432x288 with 1 Axes>"
            ]
          },
          "metadata": {
            "tags": [],
            "needs_background": "light"
          }
        },
        {
          "output_type": "execute_result",
          "data": {
            "text/plain": [
              "([0],\n",
              " 0.9268500208854675,\n",
              " [0.13442304730415344, 0.9606999754905701],\n",
              " 7,\n",
              " <matplotlib.image.AxesImage at 0x7fdd1ac90e80>,\n",
              " None)"
            ]
          },
          "metadata": {
            "tags": []
          },
          "execution_count": 32
        }
      ]
    },
    {
      "cell_type": "code",
      "metadata": {
        "id": "3_TI3Qe-cM_4",
        "colab_type": "code",
        "colab": {}
      },
      "source": [
        ""
      ],
      "execution_count": null,
      "outputs": []
    }
  ]
}