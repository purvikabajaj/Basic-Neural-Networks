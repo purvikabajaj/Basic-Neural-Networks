{
  "nbformat": 4,
  "nbformat_minor": 0,
  "metadata": {
    "colab": {
      "name": "Fashion MNIST using logs.ipynb",
      "provenance": [],
      "collapsed_sections": [],
      "authorship_tag": "ABX9TyN1EPTlNfGBdJnVfjOQW58V",
      "include_colab_link": true
    },
    "kernelspec": {
      "name": "python3",
      "display_name": "Python 3"
    },
    "accelerator": "GPU"
  },
  "cells": [
    {
      "cell_type": "markdown",
      "metadata": {
        "id": "view-in-github",
        "colab_type": "text"
      },
      "source": [
        "<a href=\"https://colab.research.google.com/github/purvikabajaj/Neural-Networks/blob/master/Fashion_MNIST_using_logs.ipynb\" target=\"_parent\"><img src=\"https://colab.research.google.com/assets/colab-badge.svg\" alt=\"Open In Colab\"/></a>"
      ]
    },
    {
      "cell_type": "code",
      "metadata": {
        "id": "wA8cKp3wb-16",
        "colab_type": "code",
        "colab": {}
      },
      "source": [
        "import tensorflow as tf\n",
        "import numpy as np\n",
        "from tensorflow import keras\n",
        "import matplotlib.pyplot as plt"
      ],
      "execution_count": 21,
      "outputs": []
    },
    {
      "cell_type": "code",
      "metadata": {
        "id": "bzVQPcticF0Z",
        "colab_type": "code",
        "colab": {}
      },
      "source": [
        "def train():\n",
        "  class myCallbacks(tf.keras.callbacks.Callback):\n",
        "    def on_epoch_end(self, epoch, logs = {}):\n",
        "      if(logs.get('loss')<0.4):\n",
        "        print('\\nCancelling training because loss<0.4\\n')\n",
        "        self.model.stop_training = True\n",
        "\n",
        "  callbacks = myCallbacks()\n",
        "  mnist = tf.keras.datasets.fashion_mnist\n",
        "\n",
        "  (x_train, y_train), (x_test, y_test) = mnist.load_data()\n",
        "  x_train = x_train/255.0\n",
        "  x_test = x_test/255.0\n",
        "\n",
        "  model = tf.keras.models.Sequential([\n",
        "      tf.keras.layers.Flatten(input_shape=(28,28)),\n",
        "      tf.keras.layers.Dense(128, activation='relu'),\n",
        "      tf.keras.layers.Dense(10, activation='softmax')]\n",
        "  )\n",
        "  model.compile(optimizer = 'adam', loss = 'sparse_categorical_crossentropy', metrics = ['accuracy'])\n",
        "  history = model.fit(x_train, y_train, epochs=5, callbacks = [callbacks])\n",
        "\n",
        "  return history.epoch, history.history['accuracy'][-1], model.evaluate(x_test, y_test), np.argmax(model.predict(x_test)[0]), plt.imshow(x_test[0].reshape(28,28),cmap='Greys'), plt.show()"
      ],
      "execution_count": 26,
      "outputs": []
    },
    {
      "cell_type": "code",
      "metadata": {
        "id": "Ut9eAhHxeM48",
        "colab_type": "code",
        "colab": {
          "base_uri": "https://localhost:8080/",
          "height": 508
        },
        "outputId": "e1a70699-eca8-449b-f6af-270d276fdac6"
      },
      "source": [
        "train()"
      ],
      "execution_count": 27,
      "outputs": [
        {
          "output_type": "stream",
          "text": [
            "Epoch 1/5\n",
            "1875/1875 [==============================] - 5s 2ms/step - loss: 0.4973 - accuracy: 0.8228\n",
            "Epoch 2/5\n",
            "1863/1875 [============================>.] - ETA: 0s - loss: 0.3667 - accuracy: 0.8677\n",
            "Cancelling training because loss<0.4\n",
            "\n",
            "1875/1875 [==============================] - 5s 2ms/step - loss: 0.3664 - accuracy: 0.8677\n",
            "313/313 [==============================] - 1s 3ms/step - loss: 0.3987 - accuracy: 0.8573\n"
          ],
          "name": "stdout"
        },
        {
          "output_type": "display_data",
          "data": {
            "image/png": "[encoded data removed]",
            "text/plain": [
              "<Figure size 432x288 with 1 Axes>"
            ]
          },
          "metadata": {
            "tags": [],
            "needs_background": "light"
          }
        },
        {
          "output_type": "execute_result",
          "data": {
            "text/plain": [
              "([0, 1],\n",
              " 0.8677166700363159,\n",
              " [0.3986591696739197, 0.8572999835014343],\n",
              " 9,\n",
              " <matplotlib.image.AxesImage at 0x7fdd7027f048>,\n",
              " None)"
            ]
          },
          "metadata": {
            "tags": []
          },
          "execution_count": 27
        }
      ]
    },
    {
      "cell_type": "code",
      "metadata": {
        "id": "3_TI3Qe-cM_4",
        "colab_type": "code",
        "colab": {}
      },
      "source": [
        ""
      ],
      "execution_count": null,
      "outputs": []
    }
  ]
}