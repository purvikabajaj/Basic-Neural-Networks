{
  "nbformat": 4,
  "nbformat_minor": 0,
  "metadata": {
    "colab": {
      "name": "Fashion MNIST.ipynb",
      "provenance": [],
      "collapsed_sections": [],
      "authorship_tag": "ABX9TyO219FhFKpiVKDngCqutLaw",
      "include_colab_link": true
    },
    "kernelspec": {
      "name": "python3",
      "display_name": "Python 3"
    },
    "accelerator": "GPU"
  },
  "cells": [
    {
      "cell_type": "markdown",
      "metadata": {
        "id": "view-in-github",
        "colab_type": "text"
      },
      "source": [
        "<a href=\"https://colab.research.google.com/github/purvikabajaj/Neural-Networks/blob/master/Fashion_MNIST.ipynb\" target=\"_parent\"><img src=\"https://colab.research.google.com/assets/colab-badge.svg\" alt=\"Open In Colab\"/></a>"
      ]
    },
    {
      "cell_type": "code",
      "metadata": {
        "id": "6otqJa_mStQV",
        "colab_type": "code",
        "colab": {}
      },
      "source": [
        "import tensorflow as tf\n",
        "import numpy as np\n",
        "from tensorflow import keras"
      ],
      "execution_count": null,
      "outputs": []
    },
    {
      "cell_type": "code",
      "metadata": {
        "id": "eb0he8sZS3BK",
        "colab_type": "code",
        "colab": {}
      },
      "source": [
        "mnist = tf.keras.datasets.fashion_mnist"
      ],
      "execution_count": null,
      "outputs": []
    },
    {
      "cell_type": "code",
      "metadata": {
        "id": "2cDbplEjTAd2",
        "colab_type": "code",
        "colab": {
          "base_uri": "https://localhost:8080/",
          "height": 156
        },
        "outputId": "1c678486-c873-4eea-8b02-bcf2c9362740"
      },
      "source": [
        "#loading the testing and training dataset each of which consists of images and labels\n",
        "(training_images, training_labels), (testing_images, testing_labels) = mnist.load_data()"
      ],
      "execution_count": null,
      "outputs": [
        {
          "output_type": "stream",
          "text": [
            "Downloading data from https://storage.googleapis.com/tensorflow/tf-keras-datasets/train-labels-idx1-ubyte.gz\n",
            "32768/29515 [=================================] - 0s 0us/step\n",
            "Downloading data from https://storage.googleapis.com/tensorflow/tf-keras-datasets/train-images-idx3-ubyte.gz\n",
            "26427392/26421880 [==============================] - 0s 0us/step\n",
            "Downloading data from https://storage.googleapis.com/tensorflow/tf-keras-datasets/t10k-labels-idx1-ubyte.gz\n",
            "8192/5148 [===============================================] - 0s 0us/step\n",
            "Downloading data from https://storage.googleapis.com/tensorflow/tf-keras-datasets/t10k-images-idx3-ubyte.gz\n",
            "4423680/4422102 [==============================] - 0s 0us/step\n"
          ],
          "name": "stdout"
        }
      ]
    },
    {
      "cell_type": "code",
      "metadata": {
        "id": "QPqo37WXTnZb",
        "colab_type": "code",
        "colab": {}
      },
      "source": [
        "import matplotlib.pyplot as plt"
      ],
      "execution_count": null,
      "outputs": []
    },
    {
      "cell_type": "code",
      "metadata": {
        "id": "wRGU6hE6TqC7",
        "colab_type": "code",
        "colab": {
          "base_uri": "https://localhost:8080/",
          "height": 1000
        },
        "outputId": "ff0226c6-b2a8-4e10-e614-b066688f3713"
      },
      "source": [
        "#printing raw data for 0th image and its label\n",
        "print(training_images[0])\n",
        "print(training_labels[0])"
      ],
      "execution_count": null,
      "outputs": [
        {
          "output_type": "stream",
          "text": [
            "[[  0   0   0   0   0   0   0   0   0   0   0   0   0   0   0   0   0   0\n",
            "    0   0   0   0   0   0   0   0   0   0]\n",
            " [  0   0   0   0   0   0   0   0   0   0   0   0   0   0   0   0   0   0\n",
            "    0   0   0   0   0   0   0   0   0   0]\n",
            " [  0   0   0   0   0   0   0   0   0   0   0   0   0   0   0   0   0   0\n",
            "    0   0   0   0   0   0   0   0   0   0]\n",
            " [  0   0   0   0   0   0   0   0   0   0   0   0   1   0   0  13  73   0\n",
            "    0   1   4   0   0   0   0   1   1   0]\n",
            " [  0   0   0   0   0   0   0   0   0   0   0   0   3   0  36 136 127  62\n",
            "   54   0   0   0   1   3   4   0   0   3]\n",
            " [  0   0   0   0   0   0   0   0   0   0   0   0   6   0 102 204 176 134\n",
            "  144 123  23   0   0   0   0  12  10   0]\n",
            " [  0   0   0   0   0   0   0   0   0   0   0   0   0   0 155 236 207 178\n",
            "  107 156 161 109  64  23  77 130  72  15]\n",
            " [  0   0   0   0   0   0   0   0   0   0   0   1   0  69 207 223 218 216\n",
            "  216 163 127 121 122 146 141  88 172  66]\n",
            " [  0   0   0   0   0   0   0   0   0   1   1   1   0 200 232 232 233 229\n",
            "  223 223 215 213 164 127 123 196 229   0]\n",
            " [  0   0   0   0   0   0   0   0   0   0   0   0   0 183 225 216 223 228\n",
            "  235 227 224 222 224 221 223 245 173   0]\n",
            " [  0   0   0   0   0   0   0   0   0   0   0   0   0 193 228 218 213 198\n",
            "  180 212 210 211 213 223 220 243 202   0]\n",
            " [  0   0   0   0   0   0   0   0   0   1   3   0  12 219 220 212 218 192\n",
            "  169 227 208 218 224 212 226 197 209  52]\n",
            " [  0   0   0   0   0   0   0   0   0   0   6   0  99 244 222 220 218 203\n",
            "  198 221 215 213 222 220 245 119 167  56]\n",
            " [  0   0   0   0   0   0   0   0   0   4   0   0  55 236 228 230 228 240\n",
            "  232 213 218 223 234 217 217 209  92   0]\n",
            " [  0   0   1   4   6   7   2   0   0   0   0   0 237 226 217 223 222 219\n",
            "  222 221 216 223 229 215 218 255  77   0]\n",
            " [  0   3   0   0   0   0   0   0   0  62 145 204 228 207 213 221 218 208\n",
            "  211 218 224 223 219 215 224 244 159   0]\n",
            " [  0   0   0   0  18  44  82 107 189 228 220 222 217 226 200 205 211 230\n",
            "  224 234 176 188 250 248 233 238 215   0]\n",
            " [  0  57 187 208 224 221 224 208 204 214 208 209 200 159 245 193 206 223\n",
            "  255 255 221 234 221 211 220 232 246   0]\n",
            " [  3 202 228 224 221 211 211 214 205 205 205 220 240  80 150 255 229 221\n",
            "  188 154 191 210 204 209 222 228 225   0]\n",
            " [ 98 233 198 210 222 229 229 234 249 220 194 215 217 241  65  73 106 117\n",
            "  168 219 221 215 217 223 223 224 229  29]\n",
            " [ 75 204 212 204 193 205 211 225 216 185 197 206 198 213 240 195 227 245\n",
            "  239 223 218 212 209 222 220 221 230  67]\n",
            " [ 48 203 183 194 213 197 185 190 194 192 202 214 219 221 220 236 225 216\n",
            "  199 206 186 181 177 172 181 205 206 115]\n",
            " [  0 122 219 193 179 171 183 196 204 210 213 207 211 210 200 196 194 191\n",
            "  195 191 198 192 176 156 167 177 210  92]\n",
            " [  0   0  74 189 212 191 175 172 175 181 185 188 189 188 193 198 204 209\n",
            "  210 210 211 188 188 194 192 216 170   0]\n",
            " [  2   0   0   0  66 200 222 237 239 242 246 243 244 221 220 193 191 179\n",
            "  182 182 181 176 166 168  99  58   0   0]\n",
            " [  0   0   0   0   0   0   0  40  61  44  72  41  35   0   0   0   0   0\n",
            "    0   0   0   0   0   0   0   0   0   0]\n",
            " [  0   0   0   0   0   0   0   0   0   0   0   0   0   0   0   0   0   0\n",
            "    0   0   0   0   0   0   0   0   0   0]\n",
            " [  0   0   0   0   0   0   0   0   0   0   0   0   0   0   0   0   0   0\n",
            "    0   0   0   0   0   0   0   0   0   0]]\n",
            "9\n"
          ],
          "name": "stdout"
        }
      ]
    },
    {
      "cell_type": "code",
      "metadata": {
        "id": "HmweeOTGTscS",
        "colab_type": "code",
        "colab": {
          "base_uri": "https://localhost:8080/",
          "height": 283
        },
        "outputId": "2d033fe9-569d-4ff2-b779-22d7c478ab46"
      },
      "source": [
        "#printing the actual 0th image\n",
        "plt.imshow(training_images[0])"
      ],
      "execution_count": null,
      "outputs": [
        {
          "output_type": "execute_result",
          "data": {
            "text/plain": [
              "<matplotlib.image.AxesImage at 0x7f666f2fd710>"
            ]
          },
          "metadata": {
            "tags": []
          },
          "execution_count": 10
        },
        {
          "output_type": "display_data",
          "data": {
            "image/png": "[encoded data removed]",
            "text/plain": [
              "<Figure size 432x288 with 1 Axes>"
            ]
          },
          "metadata": {
            "tags": [],
            "needs_background": "light"
          }
        }
      ]
    },
    {
      "cell_type": "code",
      "metadata": {
        "id": "Gfz-F6IET3YV",
        "colab_type": "code",
        "colab": {
          "base_uri": "https://localhost:8080/",
          "height": 1000
        },
        "outputId": "b5b9b6e2-ca5f-49fb-98fc-d5fd6d98ba8b"
      },
      "source": [
        "#printing the raw values for 20th image and its label\n",
        "print(training_images[20])\n",
        "print(training_labels[20])"
      ],
      "execution_count": null,
      "outputs": [
        {
          "output_type": "stream",
          "text": [
            "[[  0   0   0   0   0   1   0   0   0  65  99   0   0   0   0   0   0   0\n",
            "  106  60   0   0   0   0   0   0   0   0]\n",
            " [  0   0   0   0   0   1   0  17 190 206 202 145 148 146 148 166 165 189\n",
            "  212 210 202   0   0   0   0   0   0   0]\n",
            " [  0   0   0   0   0   0   0 160 229 193 189 197 169 182 109 165 156 202\n",
            "  198 196 233  96   0   0   0   0   0   0]\n",
            " [  0   0   0   0   0   0   2 199 198 213 193 201 207 196 172 211 206 207\n",
            "  200 202 208 217   0   0   0   0   0   0]\n",
            " [  0   0   0   0   0   0 139 205 200 207 190 192 210 210 208 212 208 197\n",
            "  201 210 206 205  83   0   0   0   0   0]\n",
            " [  0   0   0   0   0   2 196 220 200 200 190 193 199 222 222 225 199 198\n",
            "  210 212 218 227 189   0   0   0   0   0]\n",
            " [  0   0   0   0   0   0   0 162 215 199 192 196 195 204 221 200 195 205\n",
            "  208 218 235 170   0   0   0   0   0   0]\n",
            " [  0   0   0   0   0   0   0   0 172 240 192 204 203 206 203 199 206 215\n",
            "  211 232 114   0   0   0   0   0   0   0]\n",
            " [  0   0   0   0   0   0   2   0   0  32 235 200 206 208 205 204 208 215\n",
            "  252  10   0   0   0   0   0   0   0   0]\n",
            " [  0   0   0   0   0   1   0   3   0  12 247 201 208 210 206 208 211 216\n",
            "  255   0   0   0   0   0   0   0   0   0]\n",
            " [  0   0   0   0   0   0   0   2   0   5 247 205 214 207 208 211 211 220\n",
            "  251   0   0   1   0   0   0   0   0   0]\n",
            " [  0   0   0   0   0   0   0   1   0   0 241 210 210 207 213 214 211 222\n",
            "  241   0   0   1   0   0   0   0   0   0]\n",
            " [  0   0   0   0   0   0   1   0   0   0 202 217 206 211 216 219 212 226\n",
            "  226   0   0   1   0   0   0   0   0   0]\n",
            " [  0   0   0   0   0   1   0   0   0   0 214 213 208 204 223 210 213 216\n",
            "  213  17   0   2   0   0   0   0   0   0]\n",
            " [  0   0   0   0   0   0   0   2   0  99 218 202 211 205 220 205 215 205\n",
            "  229 152   0   0   0   0   0   0   0   0]\n",
            " [  0   0   0   0   0   0   0   1   0 165 214 204 211 213 214 211 217 208\n",
            "  219 203   0   0   0   0   0   0   0   0]\n",
            " [  0   0   0   0   0   0   0   0   0 188 213 208 206 212 218 208 216 204\n",
            "  218 197   0   0   2   0   0   0   0   0]\n",
            " [  0   0   0   0   0   0   1   0   0 213 210 216 204 214 217 205 217 208\n",
            "  215 212   2   0   2   0   0   0   0   0]\n",
            " [  0   0   0   0   0   0   2   0   0 225 210 219 201 214 218 205 216 207\n",
            "  214 221  17   0   2   0   0   0   0   0]\n",
            " [  0   0   0   0   0   0   2   0   0 197 211 215 200 216 219 210 215 208\n",
            "  213 227  35   0   2   0   0   0   0   0]\n",
            " [  0   0   0   0   0   0   3   0   3 206 210 219 199 215 222 210 215 211\n",
            "  211 228  60   0   2   0   0   0   0   0]\n",
            " [  0   0   0   0   0   0   2   0  11 208 211 220 200 215 223 211 214 212\n",
            "  210 229  69   0   2   0   0   0   0   0]\n",
            " [  0   0   0   0   0   0   2   0   7 207 213 218 201 216 222 214 213 213\n",
            "  211 228  61   0   2   0   0   0   0   0]\n",
            " [  0   0   0   0   0   0   2   0   0 203 215 217 201 216 222 213 213 213\n",
            "  212 228  47   0   3   0   0   0   0   0]\n",
            " [  0   0   0   0   0   0   2   0   0 196 218 216 201 216 223 214 212 215\n",
            "  214 226  27   0   2   0   0   0   0   0]\n",
            " [  0   0   0   0   0   0   2   0   0 221 221 212 202 216 222 216 212 213\n",
            "  212 221  17   0   3   0   0   0   0   0]\n",
            " [  0   0   0   0   0   0   1   0   0 203 227 212 213 228 235 229 226 226\n",
            "  217 225  17   0   2   0   0   0   0   0]\n",
            " [  0   0   0   0   0   0   0   0   0 176 216 202 184 178 188 184 185 183\n",
            "  199 207   3   0   2   0   0   0   0   0]]\n",
            "3\n"
          ],
          "name": "stdout"
        }
      ]
    },
    {
      "cell_type": "code",
      "metadata": {
        "id": "NA15fiGyUHH5",
        "colab_type": "code",
        "colab": {
          "base_uri": "https://localhost:8080/",
          "height": 283
        },
        "outputId": "1ec43826-2f92-4711-9fd1-5e49ac30db17"
      },
      "source": [
        "#printing the actual 20th image\n",
        "plt.imshow(training_images[20])"
      ],
      "execution_count": null,
      "outputs": [
        {
          "output_type": "execute_result",
          "data": {
            "text/plain": [
              "<matplotlib.image.AxesImage at 0x7f666ee67198>"
            ]
          },
          "metadata": {
            "tags": []
          },
          "execution_count": 12
        },
        {
          "output_type": "display_data",
          "data": {
            "image/png": "[encoded data removed]",
            "text/plain": [
              "<Figure size 432x288 with 1 Axes>"
            ]
          },
          "metadata": {
            "tags": [],
            "needs_background": "light"
          }
        }
      ]
    },
    {
      "cell_type": "code",
      "metadata": {
        "id": "h80zZuWYUKl4",
        "colab_type": "code",
        "colab": {}
      },
      "source": [
        "#normalizing the data\n",
        "training_images = training_images/255.0\n",
        "testing_images = testing_images/255.0"
      ],
      "execution_count": null,
      "outputs": []
    },
    {
      "cell_type": "code",
      "metadata": {
        "id": "6bBF3YFLVHqq",
        "colab_type": "code",
        "colab": {}
      },
      "source": [
        "#neural network with one input layer, one hidden layer and one output layer\n",
        "model = tf.keras.models.Sequential([\n",
        "    tf.keras.layers.Flatten(),\n",
        "    tf.keras.layers.Dense(128, activation='relu'),\n",
        "    tf.keras.layers.Dense(10, activation='softmax')]\n",
        ")"
      ],
      "execution_count": null,
      "outputs": []
    },
    {
      "cell_type": "code",
      "metadata": {
        "id": "qybMXuh7V-Y4",
        "colab_type": "code",
        "colab": {}
      },
      "source": [
        "model.compile(optimizer='Adam', loss='sparse_categorical_crossentropy', metrics=['accuracy'])"
      ],
      "execution_count": null,
      "outputs": []
    },
    {
      "cell_type": "code",
      "metadata": {
        "id": "ZBYWzJh0WTFu",
        "colab_type": "code",
        "colab": {
          "base_uri": "https://localhost:8080/",
          "height": 381
        },
        "outputId": "62c7bf12-5beb-4b54-ab0c-ef9ce9bdb9e4"
      },
      "source": [
        "model.fit(training_images, training_labels, epochs=10)"
      ],
      "execution_count": null,
      "outputs": [
        {
          "output_type": "stream",
          "text": [
            "Epoch 1/10\n",
            "1875/1875 [==============================] - 3s 2ms/step - loss: 0.2328 - accuracy: 0.9127\n",
            "Epoch 2/10\n",
            "1875/1875 [==============================] - 3s 2ms/step - loss: 0.2246 - accuracy: 0.9153\n",
            "Epoch 3/10\n",
            "1875/1875 [==============================] - 3s 2ms/step - loss: 0.2169 - accuracy: 0.9190\n",
            "Epoch 4/10\n",
            "1875/1875 [==============================] - 3s 2ms/step - loss: 0.2103 - accuracy: 0.9201\n",
            "Epoch 5/10\n",
            "1875/1875 [==============================] - 3s 2ms/step - loss: 0.2070 - accuracy: 0.9229\n",
            "Epoch 6/10\n",
            "1875/1875 [==============================] - 3s 2ms/step - loss: 0.2012 - accuracy: 0.9246\n",
            "Epoch 7/10\n",
            "1875/1875 [==============================] - 3s 2ms/step - loss: 0.1955 - accuracy: 0.9264\n",
            "Epoch 8/10\n",
            "1875/1875 [==============================] - 3s 2ms/step - loss: 0.1904 - accuracy: 0.9273\n",
            "Epoch 9/10\n",
            "1875/1875 [==============================] - 3s 2ms/step - loss: 0.1826 - accuracy: 0.9308\n",
            "Epoch 10/10\n",
            "1875/1875 [==============================] - 3s 2ms/step - loss: 0.1802 - accuracy: 0.9327\n"
          ],
          "name": "stdout"
        },
        {
          "output_type": "execute_result",
          "data": {
            "text/plain": [
              "<tensorflow.python.keras.callbacks.History at 0x7f6610735c88>"
            ]
          },
          "metadata": {
            "tags": []
          },
          "execution_count": 20
        }
      ]
    },
    {
      "cell_type": "code",
      "metadata": {
        "id": "1el2guD4WXv5",
        "colab_type": "code",
        "colab": {
          "base_uri": "https://localhost:8080/",
          "height": 52
        },
        "outputId": "e1af4f12-bd65-47cf-ac3d-406d7769bd8e"
      },
      "source": [
        "model.evaluate(testing_images, testing_labels)"
      ],
      "execution_count": null,
      "outputs": [
        {
          "output_type": "stream",
          "text": [
            "313/313 [==============================] - 1s 2ms/step - loss: 0.3415 - accuracy: 0.8901\n"
          ],
          "name": "stdout"
        },
        {
          "output_type": "execute_result",
          "data": {
            "text/plain": [
              "[0.34153956174850464, 0.8901000022888184]"
            ]
          },
          "metadata": {
            "tags": []
          },
          "execution_count": 21
        }
      ]
    },
    {
      "cell_type": "code",
      "metadata": {
        "id": "BNKj0mLrWreC",
        "colab_type": "code",
        "colab": {}
      },
      "source": [
        ""
      ],
      "execution_count": null,
      "outputs": []
    }
  ]
}